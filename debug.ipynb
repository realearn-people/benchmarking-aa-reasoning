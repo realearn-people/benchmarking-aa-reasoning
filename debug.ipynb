{
 "cells": [
  {
   "cell_type": "code",
   "execution_count": 34,
   "id": "4e1b1114",
   "metadata": {},
   "outputs": [
    {
     "name": "stdout",
     "output_type": "stream",
     "text": [
      "500 An internal error has occurred. Please retry or report in https://developers.generativeai.google/guide/troubleshooting\n"
     ]
    }
   ],
   "source": [
    "from google import genai\n",
    "from google.genai import types\n",
    "from google.genai.types import HttpOptions\n",
    "from google.genai.errors import ClientError, ServerError\n",
    "from httpx import ReadTimeout\n",
    "\n",
    "client = genai.Client(http_options=HttpOptions(timeout= 10 * 1000))\n",
    "try:\n",
    "    response = client.models.generate_content(\n",
    "                model=\"gemini-2.5-pro\",\n",
    "                config=types.GenerateContentConfig(\n",
    "                    system_instruction=\"Explain it to an undergraduate student\",\n",
    "                    temperature=0.0,\n",
    "                ),\n",
    "                contents=\"What is the color of the sky?\"\n",
    "            )\n",
    "    print(response.text)\n",
    "except ServerError as e:\n",
    "    print(e.code, e.message)\n",
    "\n"
   ]
  }
 ],
 "metadata": {
  "kernelspec": {
   "display_name": "ML",
   "language": "python",
   "name": "python3"
  },
  "language_info": {
   "codemirror_mode": {
    "name": "ipython",
    "version": 3
   },
   "file_extension": ".py",
   "mimetype": "text/x-python",
   "name": "python",
   "nbconvert_exporter": "python",
   "pygments_lexer": "ipython3",
   "version": "3.11.13"
  }
 },
 "nbformat": 4,
 "nbformat_minor": 5
}
